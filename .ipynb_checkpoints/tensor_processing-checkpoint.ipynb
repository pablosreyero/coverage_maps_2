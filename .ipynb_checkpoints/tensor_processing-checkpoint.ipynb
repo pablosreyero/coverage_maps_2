{
 "cells": [
  {
   "cell_type": "markdown",
   "id": "63642710-09ea-4805-bb68-2405f3cfb5bd",
   "metadata": {},
   "source": [
    "# Tensor processing notebook"
   ]
  },
  {
   "cell_type": "markdown",
   "id": "91de0d26-a3bd-4e63-8f07-1232dad632fd",
   "metadata": {},
   "source": [
    "## Imports"
   ]
  },
  {
   "cell_type": "code",
   "execution_count": 1,
   "id": "cd3f563b-4998-4c41-a18c-0754ad08f5e1",
   "metadata": {},
   "outputs": [
    {
     "name": "stderr",
     "output_type": "stream",
     "text": [
      "2025-05-15 16:48:03.381708: I tensorflow/core/util/port.cc:113] oneDNN custom operations are on. You may see slightly different numerical results due to floating-point round-off errors from different computation orders. To turn them off, set the environment variable `TF_ENABLE_ONEDNN_OPTS=0`.\n",
      "2025-05-15 16:48:03.411512: E external/local_xla/xla/stream_executor/cuda/cuda_dnn.cc:9261] Unable to register cuDNN factory: Attempting to register factory for plugin cuDNN when one has already been registered\n",
      "2025-05-15 16:48:03.411559: E external/local_xla/xla/stream_executor/cuda/cuda_fft.cc:607] Unable to register cuFFT factory: Attempting to register factory for plugin cuFFT when one has already been registered\n",
      "2025-05-15 16:48:03.412497: E external/local_xla/xla/stream_executor/cuda/cuda_blas.cc:1515] Unable to register cuBLAS factory: Attempting to register factory for plugin cuBLAS when one has already been registered\n",
      "2025-05-15 16:48:03.419361: I tensorflow/core/platform/cpu_feature_guard.cc:182] This TensorFlow binary is optimized to use available CPU instructions in performance-critical operations.\n",
      "To enable the following instructions: AVX2 AVX_VNNI FMA, in other operations, rebuild TensorFlow with the appropriate compiler flags.\n"
     ]
    }
   ],
   "source": [
    "import os\n",
    "from datetime import date\n",
    "\n",
    "try:\n",
    "    import numpy as np\n",
    "    import pandas as pd\n",
    "    import matplotlib.pyplot as plt\n",
    "    import seaborn as sns\n",
    "    import tensorflow as tf\n",
    "    import keras\n",
    "\n",
    "except:\n",
    "    os.system(\"pip install numpy\")\n",
    "    os.system(\"pip install pandas\")\n",
    "    os.system(\"pip install matplotlib\")\n",
    "    os.system(\"pip install seaborn\")\n",
    "    os.system(\"pip install tensorflow\")\n",
    "    os.system(\"pip install keras\")\n",
    "\n",
    "    import numpy as np\n",
    "    import pandas as pd\n",
    "    import matplotlib.pyplot as plt\n",
    "    import seaborn as sns\n",
    "    import tensorflow as tf\n",
    "    import keras\n"
   ]
  },
  {
   "cell_type": "markdown",
   "id": "e9f996f6-91af-48e0-824c-9ea151baebbb",
   "metadata": {},
   "source": [
    "## Main code"
   ]
  },
  {
   "cell_type": "code",
   "execution_count": 2,
   "id": "157dc70b-279b-4f0a-8b7c-8fe649434684",
   "metadata": {},
   "outputs": [
    {
     "name": "stderr",
     "output_type": "stream",
     "text": [
      "2025-05-15 16:48:04.506033: E external/local_xla/xla/stream_executor/cuda/cuda_driver.cc:274] failed call to cuInit: UNKNOWN ERROR (34)\n"
     ]
    },
    {
     "name": "stdout",
     "output_type": "stream",
     "text": [
      "CSV updated with RSS/RSRP classification percentages.\n",
      "CSV updated with RSS/RSRP classification percentages.\n"
     ]
    }
   ],
   "source": [
    "import numpy as np\n",
    "import pandas as pd\n",
    "import os\n",
    "\n",
    "# Your CSV dataset\n",
    "datasets = ['sionna_madrid', 'sionna_madrid_concrete_ground']\n",
    "\n",
    "for dataset in datasets:\n",
    "    df = pd.read_csv(f'{dataset}/scene_charact_{dataset}2025-05-15.csv', sep=',')\n",
    "    \n",
    "    # Define bin edges and labels (in dBm)\n",
    "    bins = [float('-inf'), -120, -100, -90, -80, float('inf')]\n",
    "    labels = ['very_poor', 'poor', 'fair', 'good', 'excellent']\n",
    "    \n",
    "    # Add new columns if not already present\n",
    "    for label in labels:\n",
    "        if f'percent_{label}' not in df.columns:\n",
    "            df[f'percent_{label}'] = np.nan\n",
    "    \n",
    "    for idx, row in df.iterrows():\n",
    "        name = str(row['scene_name'])\n",
    "        # Change to the actual path where your tensors are stored\n",
    "        tensor_path = os.path.join(f'{dataset}', name, 'cm_tensor_dB.npy')\n",
    "        if not os.path.exists(tensor_path):\n",
    "            print(f\"Tensor not found for scene {name}\")\n",
    "            continue\n",
    "    \n",
    "        # Load tensor (shape: 3,1,200,200)\n",
    "        tensor = np.load(tensor_path)\n",
    "        # Flatten all values for global statistics and binning\n",
    "        values = tensor.flatten()\n",
    "    \n",
    "        # Tensor statistics\n",
    "        tensor_tf = tf.convert_to_tensor(values)\n",
    "        tensor_max = float(tf.reduce_max(tensor_tf).numpy())\n",
    "        tensor_min = float(tf.reduce_min(tensor_tf).numpy())\n",
    "        tensor_mean = float(tf.reduce_mean(tensor_tf).numpy())\n",
    "        tensor_median = float(np.median(values))\n",
    "    \n",
    "        # Histogram for RSRP classes\n",
    "        total_cells = values.size\n",
    "        hist, _ = np.histogram(values, bins=bins)\n",
    "        pct = hist / total_cells\n",
    "    \n",
    "        # Assign stats to DataFrame\n",
    "        df.at[idx, 'tensor_max [dBm]'] = tensor_max\n",
    "        df.at[idx, 'tensor_min [dBm]'] = tensor_min\n",
    "        df.at[idx, 'tensor_mean [dBm]'] = tensor_mean\n",
    "        df.at[idx, 'tensor_median [dBm]'] = tensor_median\n",
    "        for l, v in zip(labels, pct):\n",
    "            df.at[idx, f'percent_{l}'] = v\n",
    "    \n",
    "    # Save the enriched CSV\n",
    "    df.to_csv(f'{dataset}/scene_charact_{dataset}_TENSOR_info_{date.today()}.csv', sep=',', index=False)\n",
    "    print(\"CSV updated with RSS/RSRP classification percentages.\")\n"
   ]
  }
 ],
 "metadata": {
  "kernelspec": {
   "display_name": "Python 3 (ipykernel)",
   "language": "python",
   "name": "python3"
  },
  "language_info": {
   "codemirror_mode": {
    "name": "ipython",
    "version": 3
   },
   "file_extension": ".py",
   "mimetype": "text/x-python",
   "name": "python",
   "nbconvert_exporter": "python",
   "pygments_lexer": "ipython3",
   "version": "3.11.0rc1"
  }
 },
 "nbformat": 4,
 "nbformat_minor": 5
}
