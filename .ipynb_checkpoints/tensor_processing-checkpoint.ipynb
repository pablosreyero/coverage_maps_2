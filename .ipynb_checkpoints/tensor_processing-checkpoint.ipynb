{
 "cells": [
  {
   "cell_type": "markdown",
   "id": "63642710-09ea-4805-bb68-2405f3cfb5bd",
   "metadata": {},
   "source": [
    "# Tensor processing notebook"
   ]
  },
  {
   "cell_type": "markdown",
   "id": "91de0d26-a3bd-4e63-8f07-1232dad632fd",
   "metadata": {},
   "source": [
    "## Imports"
   ]
  },
  {
   "cell_type": "code",
   "execution_count": 17,
   "id": "cd3f563b-4998-4c41-a18c-0754ad08f5e1",
   "metadata": {},
   "outputs": [],
   "source": [
    "import os\n",
    "from datetime import date\n",
    "\n",
    "try:\n",
    "    import numpy as np\n",
    "    import pandas as pd\n",
    "    import matplotlib.pyplot as plt\n",
    "    import seaborn as sns\n",
    "    import tensorflow as tf\n",
    "    import keras\n",
    "\n",
    "except:\n",
    "    os.system(\"pip install numpy\")\n",
    "    os.system(\"pip install pandas\")\n",
    "    os.system(\"pip install matplotlib\")\n",
    "    os.system(\"pip install seaborn\")\n",
    "    os.system(\"pip install tensorflow\")\n",
    "    os.system(\"pip install keras\")\n",
    "\n",
    "    import numpy as np\n",
    "    import pandas as pd\n",
    "    import matplotlib.pyplot as plt\n",
    "    import seaborn as sns\n",
    "    import tensorflow as tf\n",
    "    import keras\n"
   ]
  },
  {
   "cell_type": "markdown",
   "id": "e9f996f6-91af-48e0-824c-9ea151baebbb",
   "metadata": {},
   "source": [
    "## Main code"
   ]
  },
  {
   "cell_type": "code",
   "execution_count": 28,
   "id": "157dc70b-279b-4f0a-8b7c-8fe649434684",
   "metadata": {},
   "outputs": [
    {
     "name": "stdout",
     "output_type": "stream",
     "text": [
      "CSV updated and saved as sionna_madrid/scene_charact_sionna_madrid_TENSOR_info_2025-05-22.csv\n",
      "CSV updated and saved as sionna_madrid_concrete_ground/scene_charact_sionna_madrid_concrete_ground_TENSOR_info_2025-05-22.csv\n"
     ]
    }
   ],
   "source": [
    "\n",
    "# Your CSV dataset\n",
    "datasets = ['sionna_madrid', 'sionna_madrid_concrete_ground']\n",
    "\n",
    "for dataset in datasets:\n",
    "    df = pd.read_csv(f'{dataset}/scene_charact_{dataset}2025-05-15.csv', sep=',')\n",
    "    \n",
    "    # Define bin edges and labels (in dBm)\n",
    "    bins = [float('-inf'), -120, -100, -90, -80, float('inf')]\n",
    "    labels = ['very_poor', 'poor', 'fair', 'good', 'excellent']\n",
    "    \n",
    "    # Add new columns if not already present\n",
    "    for label in labels:\n",
    "        if f'percent_{label}' not in df.columns:\n",
    "            df[f'percent_{label}'] = np.nan\n",
    "    \n",
    "    for idx, row in df.iterrows():\n",
    "        name = str(row['scene_name'])\n",
    "        # Change to the actual path where your tensors are stored\n",
    "        tensor_path = os.path.join(f'{dataset}', name, 'cm_tensor_dB.npy')\n",
    "        if not os.path.exists(tensor_path):\n",
    "            print(f\"Tensor not found for scene {name}\")\n",
    "            continue\n",
    "    \n",
    "        # Load tensor (shape: 3,1,200,200)\n",
    "        tensor = np.load(tensor_path)\n",
    "        # Flatten all values for global statistics and binning\n",
    "        # values = tensor.flatten()\n",
    "\n",
    "        print(type(tensor))\n",
    "        tensor_tf = tf.convert_to_tensor(tensor)\n",
    "        tensor_tf_max = tf.reduce_max(tensor_tf, axis=0)\n",
    "        print(f'Esta es la dimension: {tf.shape(tensor_tf_max)}')\n",
    "        print(f\"Este es el tensor: {tensor_tf_max}\")\n",
    "\n",
    "        # Histogram for RSRP classes\n",
    "        values = tensor_tf_max\n",
    "        # total_cells = values.size\n",
    "        total_cells = tf.size(values)\n",
    "        print(f\"Este es el size: {total_cells}\")\n",
    "        hist, _ = np.histogram(values, bins=bins)\n",
    "        pct = hist / total_cells\n",
    "\n",
    "        # Tensor statistics\n",
    "        tensor_tf = tf.convert_to_tensor(values)\n",
    "        tensor_max = float(tf.reduce_max(tensor_tf).numpy())\n",
    "        tensor_min = float(tf.reduce_min(tensor_tf).numpy())\n",
    "        tensor_mean = float(tf.reduce_mean(tensor_tf).numpy())\n",
    "        tensor_median = float(np.median(values))\n",
    "\n",
    "        # Assign stats to DataFrame\n",
    "        df.at[idx, 'tensor_max [dBm]'] = tensor_max\n",
    "        df.at[idx, 'tensor_min [dBm]'] = tensor_min\n",
    "        df.at[idx, 'tensor_mean [dBm]'] = tensor_mean\n",
    "        df.at[idx, 'tensor_median [dBm]'] = tensor_median\n",
    "        for l, v in zip(labels, pct):\n",
    "            df.at[idx, f'percent_{l}'] = v\n",
    "    \n",
    "    # Save the enriched CSV\n",
    "    df.to_csv(f'{dataset}/scene_charact_{dataset}_TENSOR_info_{date.today()}.csv', sep=',', index=False)\n",
    "    print(\"CSV updated with RSS/RSRP classification percentages.\")\n"
   ]
  },
  {
   "cell_type": "code",
   "execution_count": 15,
   "id": "cfbb1a31-07fa-44bd-9f4f-0f9a4e864b38",
   "metadata": {},
   "outputs": [
    {
     "name": "stdout",
     "output_type": "stream",
     "text": [
      "     percent_very_poor  percent_poor  percent_fair  percent_good  \\\n",
      "0             0.626483      0.243558      0.072117      0.025450   \n",
      "1             0.636808      0.202992      0.082750      0.044567   \n",
      "2             0.459008      0.289558      0.112642      0.061475   \n",
      "3             0.327160      0.408687      0.140806      0.052479   \n",
      "4             0.367592      0.334767      0.181342      0.045558   \n",
      "..                 ...           ...           ...           ...   \n",
      "651           0.584123      0.201348      0.094500      0.048000   \n",
      "652           0.431992      0.271976      0.146415      0.101016   \n",
      "653           0.665383      0.153992      0.063158      0.052958   \n",
      "654           0.452173      0.222787      0.149085      0.084009   \n",
      "655           0.666425      0.196508      0.066217      0.034883   \n",
      "\n",
      "     percent_excellent  sum_selected_percents  \n",
      "0             0.032392                    1.0  \n",
      "1             0.032883                    1.0  \n",
      "2             0.077317                    1.0  \n",
      "3             0.070868                    1.0  \n",
      "4             0.070742                    1.0  \n",
      "..                 ...                    ...  \n",
      "651           0.072029                    1.0  \n",
      "652           0.048602                    1.0  \n",
      "653           0.064508                    1.0  \n",
      "654           0.091946                    1.0  \n",
      "655           0.035967                    1.0  \n",
      "\n",
      "[656 rows x 6 columns]\n"
     ]
    }
   ],
   "source": [
    "dataset = 'sionna_madrid'\n",
    "df = pd.read_csv(f'{dataset}/scene_charact_{dataset}_TENSOR_info_2025-05-15.csv', sep=',')\n",
    "df.head\n",
    "\n",
    "# List of columns to sum\n",
    "cols_to_sum = ['percent_very_poor', 'percent_poor', 'percent_fair','percent_good','percent_excellent']\n",
    "\n",
    "# Create the new column with the sum for each row\n",
    "df['sum_selected_percents'] = df[cols_to_sum].sum(axis=1)\n",
    "\n",
    "# Show the result\n",
    "print(df[['percent_very_poor', 'percent_poor', 'percent_fair','percent_good','percent_excellent','sum_selected_percents']])\n",
    "\n",
    "# let us now get the max, min, mean and median values for the tensor "
   ]
  },
  {
   "cell_type": "code",
   "execution_count": 19,
   "id": "7ac84427-8ba4-4608-9a63-1e2c6dd23c4c",
   "metadata": {},
   "outputs": [
    {
     "name": "stdout",
     "output_type": "stream",
     "text": [
      "tf.Tensor([ 9  9 10], shape=(3,), dtype=int32)\n"
     ]
    }
   ],
   "source": [
    "tensor = tf.constant([[9, 8, 7],[1, 9, 10]])\n",
    "result = tf.reduce_max(tensor, axis=0)\n",
    "print(result)"
   ]
  }
 ],
 "metadata": {
  "kernelspec": {
   "display_name": "Python 3 (ipykernel)",
   "language": "python",
   "name": "python3"
  },
  "language_info": {
   "codemirror_mode": {
    "name": "ipython",
    "version": 3
   },
   "file_extension": ".py",
   "mimetype": "text/x-python",
   "name": "python",
   "nbconvert_exporter": "python",
   "pygments_lexer": "ipython3",
   "version": "3.11.0rc1"
  }
 },
 "nbformat": 4,
 "nbformat_minor": 5
}
